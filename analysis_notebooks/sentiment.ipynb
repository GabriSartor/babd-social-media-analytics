{
 "cells": [
  {
   "cell_type": "code",
   "execution_count": 1,
   "id": "bcb47f9e",
   "metadata": {
    "scrolled": true
   },
   "outputs": [],
   "source": [
    "from database import get_thread_sample, get_comments_sample, bulk_update_comments"
   ]
  },
  {
   "cell_type": "code",
   "execution_count": 2,
   "id": "094aa18d",
   "metadata": {},
   "outputs": [
    {
     "name": "stdout",
     "output_type": "stream",
     "text": [
      "2021-05-26 17:16:14,145 loading file C:\\Users\\Gabry\\.flair\\models\\sentiment-en-mix-distillbert_4.pt\n"
     ]
    }
   ],
   "source": [
    "import flair\n",
    "flair_sentiment = flair.models.TextClassifier.load('en-sentiment')"
   ]
  },
  {
   "cell_type": "code",
   "execution_count": 2,
   "id": "55982f07",
   "metadata": {},
   "outputs": [],
   "source": [
    "import pandas as pd"
   ]
  },
  {
   "cell_type": "code",
   "execution_count": 3,
   "id": "36e3b66f",
   "metadata": {},
   "outputs": [],
   "source": [
    "def from_cursor_to_df(cursor):\n",
    "    return pd.DataFrame.from_dict(list(cursor))"
   ]
  },
  {
   "cell_type": "code",
   "execution_count": 5,
   "id": "727c39e3",
   "metadata": {},
   "outputs": [],
   "source": [
    "thread_field_list = ['selftext', 'subreddit', 'score', 'is_esl_related', 'title', 'created_utc']\n",
    "comments_field_list = ['body', 'subreddit', 'score', 'is_esl_related', 'created_utc']"
   ]
  },
  {
   "cell_type": "code",
   "execution_count": 6,
   "id": "f2a5030b",
   "metadata": {},
   "outputs": [],
   "source": [
    "#get_xxx_sample returns a mongo cursor with results from the specified aggregation\n",
    "#\n",
    "#limit -> use limit to define the number of results (random sample, default = 1000)\n",
    "#esl_related -> true or false to get only results related or not to the esl. None to get both (default = None)\n",
    "#include -> list of included fields. None -> return all the fields. default = ['body','_id']\n",
    "\n",
    "df_comments = from_cursor_to_df(get_comments_sample(limit=10, esl_related = None, include = comments_field_list))\n",
    "df_thread = from_cursor_to_df(get_thread_sample(limit=10, esl_related = None, include = thread_field_list))"
   ]
  },
  {
   "cell_type": "code",
   "execution_count": 7,
   "id": "f4ab1a49",
   "metadata": {},
   "outputs": [],
   "source": [
    "df_comments['date_created'] = pd.to_datetime(df_comments['created_utc'], unit='s')\n",
    "df_comments.drop(columns=['created_utc'], inplace=True)\n",
    "df_thread['date_created'] = pd.to_datetime(df_thread['created_utc'], unit='s')\n",
    "df_thread.drop(columns=['created_utc'], inplace=True)\n",
    "df_comments['is_esl_related'].fillna(False, inplace=True)\n",
    "df_thread['is_esl_related'].fillna(False, inplace=True)"
   ]
  },
  {
   "cell_type": "code",
   "execution_count": 8,
   "id": "aa5608b5",
   "metadata": {},
   "outputs": [
    {
     "data": {
      "text/html": [
       "<div>\n",
       "<style scoped>\n",
       "    .dataframe tbody tr th:only-of-type {\n",
       "        vertical-align: middle;\n",
       "    }\n",
       "\n",
       "    .dataframe tbody tr th {\n",
       "        vertical-align: top;\n",
       "    }\n",
       "\n",
       "    .dataframe thead th {\n",
       "        text-align: right;\n",
       "    }\n",
       "</style>\n",
       "<table border=\"1\" class=\"dataframe\">\n",
       "  <thead>\n",
       "    <tr style=\"text-align: right;\">\n",
       "      <th></th>\n",
       "      <th>_id</th>\n",
       "      <th>body</th>\n",
       "      <th>score</th>\n",
       "      <th>subreddit</th>\n",
       "      <th>is_esl_related</th>\n",
       "      <th>date_created</th>\n",
       "    </tr>\n",
       "  </thead>\n",
       "  <tbody>\n",
       "    <tr>\n",
       "      <th>0</th>\n",
       "      <td>6085ef97c17c650b4e0e2835</td>\n",
       "      <td>Yes. They have fast players.</td>\n",
       "      <td>18</td>\n",
       "      <td>soccer</td>\n",
       "      <td>False</td>\n",
       "      <td>2021-04-17 19:29:38</td>\n",
       "    </tr>\n",
       "    <tr>\n",
       "      <th>1</th>\n",
       "      <td>60865d55c17c650b4e132555</td>\n",
       "      <td>Haha. This farce just gets worse. Relegate all...</td>\n",
       "      <td>1</td>\n",
       "      <td>soccer</td>\n",
       "      <td>True</td>\n",
       "      <td>2021-04-20 11:56:56</td>\n",
       "    </tr>\n",
       "    <tr>\n",
       "      <th>2</th>\n",
       "      <td>60865a9bc17c650b4e12f352</td>\n",
       "      <td>\"why can't they cater to my exact needs?\"</td>\n",
       "      <td>1</td>\n",
       "      <td>soccer</td>\n",
       "      <td>True</td>\n",
       "      <td>2021-04-20 13:52:26</td>\n",
       "    </tr>\n",
       "    <tr>\n",
       "      <th>3</th>\n",
       "      <td>60867604c17c650b4e14cb52</td>\n",
       "      <td>I have a college class about three minutes awa...</td>\n",
       "      <td>3</td>\n",
       "      <td>Gunners</td>\n",
       "      <td>False</td>\n",
       "      <td>2021-04-21 10:07:55</td>\n",
       "    </tr>\n",
       "    <tr>\n",
       "      <th>4</th>\n",
       "      <td>6086c66dc17c650b4e19e8bf</td>\n",
       "      <td>Wrong place to ask this. Most on this sub thin...</td>\n",
       "      <td>0</td>\n",
       "      <td>coys</td>\n",
       "      <td>False</td>\n",
       "      <td>2021-04-25 20:31:08</td>\n",
       "    </tr>\n",
       "    <tr>\n",
       "      <th>5</th>\n",
       "      <td>6086045ec17c650b4e0eb7f1</td>\n",
       "      <td>Hes not going to shit talk when his employers ...</td>\n",
       "      <td>1</td>\n",
       "      <td>soccer</td>\n",
       "      <td>False</td>\n",
       "      <td>2021-04-18 16:27:15</td>\n",
       "    </tr>\n",
       "    <tr>\n",
       "      <th>6</th>\n",
       "      <td>6086a4aec17c650b4e17c18a</td>\n",
       "      <td>I keep thinking about how many frames per seco...</td>\n",
       "      <td>1</td>\n",
       "      <td>Gunners</td>\n",
       "      <td>False</td>\n",
       "      <td>2021-04-23 20:21:42</td>\n",
       "    </tr>\n",
       "    <tr>\n",
       "      <th>7</th>\n",
       "      <td>6086b202c17c650b4e18b179</td>\n",
       "      <td>Well they have oil 😂😂😂\\nDon't fuck with us💪😘👊</td>\n",
       "      <td>17</td>\n",
       "      <td>soccer</td>\n",
       "      <td>False</td>\n",
       "      <td>2021-04-24 19:45:16</td>\n",
       "    </tr>\n",
       "    <tr>\n",
       "      <th>8</th>\n",
       "      <td>60865e1bc17c650b4e13321c</td>\n",
       "      <td>Right so no Bruno, no Keane, no Cantona, no RV...</td>\n",
       "      <td>1</td>\n",
       "      <td>reddevils</td>\n",
       "      <td>True</td>\n",
       "      <td>2021-04-20 12:51:42</td>\n",
       "    </tr>\n",
       "    <tr>\n",
       "      <th>9</th>\n",
       "      <td>60865d9fc17c650b4e132ad9</td>\n",
       "      <td>\\n&amp;gt;Because there's also the mass infrastruc...</td>\n",
       "      <td>1</td>\n",
       "      <td>soccer</td>\n",
       "      <td>True</td>\n",
       "      <td>2021-04-20 17:15:00</td>\n",
       "    </tr>\n",
       "  </tbody>\n",
       "</table>\n",
       "</div>"
      ],
      "text/plain": [
       "                        _id  \\\n",
       "0  6085ef97c17c650b4e0e2835   \n",
       "1  60865d55c17c650b4e132555   \n",
       "2  60865a9bc17c650b4e12f352   \n",
       "3  60867604c17c650b4e14cb52   \n",
       "4  6086c66dc17c650b4e19e8bf   \n",
       "5  6086045ec17c650b4e0eb7f1   \n",
       "6  6086a4aec17c650b4e17c18a   \n",
       "7  6086b202c17c650b4e18b179   \n",
       "8  60865e1bc17c650b4e13321c   \n",
       "9  60865d9fc17c650b4e132ad9   \n",
       "\n",
       "                                                body  score  subreddit  \\\n",
       "0                       Yes. They have fast players.     18     soccer   \n",
       "1  Haha. This farce just gets worse. Relegate all...      1     soccer   \n",
       "2          \"why can't they cater to my exact needs?\"      1     soccer   \n",
       "3  I have a college class about three minutes awa...      3    Gunners   \n",
       "4  Wrong place to ask this. Most on this sub thin...      0       coys   \n",
       "5  Hes not going to shit talk when his employers ...      1     soccer   \n",
       "6  I keep thinking about how many frames per seco...      1    Gunners   \n",
       "7      Well they have oil 😂😂😂\\nDon't fuck with us💪😘👊     17     soccer   \n",
       "8  Right so no Bruno, no Keane, no Cantona, no RV...      1  reddevils   \n",
       "9  \\n&gt;Because there's also the mass infrastruc...      1     soccer   \n",
       "\n",
       "   is_esl_related        date_created  \n",
       "0           False 2021-04-17 19:29:38  \n",
       "1            True 2021-04-20 11:56:56  \n",
       "2            True 2021-04-20 13:52:26  \n",
       "3           False 2021-04-21 10:07:55  \n",
       "4           False 2021-04-25 20:31:08  \n",
       "5           False 2021-04-18 16:27:15  \n",
       "6           False 2021-04-23 20:21:42  \n",
       "7           False 2021-04-24 19:45:16  \n",
       "8            True 2021-04-20 12:51:42  \n",
       "9            True 2021-04-20 17:15:00  "
      ]
     },
     "execution_count": 8,
     "metadata": {},
     "output_type": "execute_result"
    }
   ],
   "source": [
    "df_comments"
   ]
  },
  {
   "cell_type": "code",
   "execution_count": 9,
   "id": "68643ca7",
   "metadata": {},
   "outputs": [],
   "source": [
    "def sentiment(x): \n",
    "    s = flair.data.Sentence(x)\n",
    "    flair_sentiment.predict(s)\n",
    "    return s.labels"
   ]
  },
  {
   "cell_type": "code",
   "execution_count": 10,
   "id": "332538a5",
   "metadata": {},
   "outputs": [],
   "source": [
    "df_comments['Sentiment'] = df_comments['body'].apply(\n",
    "    lambda x: sentiment(x)\n",
    ")"
   ]
  },
  {
   "cell_type": "code",
   "execution_count": 11,
   "id": "6223cf4d",
   "metadata": {},
   "outputs": [
    {
     "data": {
      "text/plain": [
       "['POSITIVE', '(0.9966)']"
      ]
     },
     "execution_count": 11,
     "metadata": {},
     "output_type": "execute_result"
    }
   ],
   "source": [
    "str(df_comments['Sentiment'][0][0]).split()"
   ]
  },
  {
   "cell_type": "code",
   "execution_count": 12,
   "id": "9e4aa29d",
   "metadata": {},
   "outputs": [],
   "source": [
    "df_comments['Sentiment_direction'] = df_comments['Sentiment'].apply(\n",
    "    lambda x: str(x[0]).split()[0]\n",
    ")\n",
    "df_comments['Sentiment_accuracy'] = df_comments['Sentiment'].apply(\n",
    "    lambda x: float(str(x[0]).split()[1].replace('(', '').replace(')', '') )\n",
    ")"
   ]
  },
  {
   "cell_type": "code",
   "execution_count": null,
   "id": "777e5c4b",
   "metadata": {},
   "outputs": [],
   "source": []
  },
  {
   "cell_type": "code",
   "execution_count": null,
   "id": "53ee1f17",
   "metadata": {},
   "outputs": [],
   "source": []
  }
 ],
 "metadata": {
  "kernelspec": {
   "display_name": "Python 3",
   "language": "python",
   "name": "python3"
  },
  "language_info": {
   "codemirror_mode": {
    "name": "ipython",
    "version": 3
   },
   "file_extension": ".py",
   "mimetype": "text/x-python",
   "name": "python",
   "nbconvert_exporter": "python",
   "pygments_lexer": "ipython3",
   "version": "3.8.10"
  }
 },
 "nbformat": 4,
 "nbformat_minor": 5
}
